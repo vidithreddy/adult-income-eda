{
 "cells": [
  {
   "cell_type": "markdown",
   "id": "6c25af59",
   "metadata": {},
   "source": [
    "# UCI Adult Income Dataset - Exploratory Data Analysis\n",
    "\n",
    "This notebook contains a professional exploratory data analysis (EDA) of the UCI Adult Income (Census) dataset. The goal is to investigate the structure and relationships in the data to inform potential predictive modeling tasks.\n",
    "\n",
    "## Introduction\n",
    "The UCI Adult dataset contains demographic information and income labels indicating whether a person earns over $50K/year. This EDA explores the data's distributions, relationships, and potential data quality issues to prepare it for machine learning modeling."
   ]
  },
  {
   "cell_type": "code",
   "execution_count": null,
   "id": "15063204",
   "metadata": {
    "vscode": {
     "languageId": "plaintext"
    }
   },
   "outputs": [],
   "source": [
    "# Import essential libraries for data analysis and visualization\n",
    "import pandas as pd\n",
    "import matplotlib.pyplot as plt\n",
    "import seaborn as sns"
   ]
  },
  {
   "cell_type": "code",
   "execution_count": null,
   "id": "f77e5478",
   "metadata": {
    "vscode": {
     "languageId": "plaintext"
    }
   },
   "outputs": [],
   "source": [
    "# Load the Adult Income dataset\n",
    "data_path = '../data/adult.data.csv'\n",
    "df = pd.read_csv(data_path, header=None)\n",
    "df.head()"
   ]
  },
  {
   "cell_type": "markdown",
   "id": "46518e21",
   "metadata": {},
   "source": [
    "## Data Preparation and Feature Naming\n",
    "\n",
    "In this section, we assign meaningful column names to the dataset for easier analysis and inspect the basic structure of the data."
   ]
  },
  {
   "cell_type": "code",
   "execution_count": null,
   "id": "dc5fca6a",
   "metadata": {
    "vscode": {
     "languageId": "plaintext"
    }
   },
   "outputs": [],
   "source": [
    "# Assign descriptive column names to the dataset\n",
    "df.columns = [\n",
    "    'age', 'workclass', 'fnlwgt', 'education', 'education-num', 'marital-status',\n",
    "    'occupation', 'relationship', 'race', 'sex', 'capital-gain', 'capital-loss',\n",
    "    'hours-per-week', 'native-country', 'income'\n",
    "]\n",
    "\n",
    "# Display the first few rows with new column names\n",
    "df.head()"
   ]
  },
  {
   "cell_type": "code",
   "execution_count": null,
   "id": "44b99085",
   "metadata": {
    "vscode": {
     "languageId": "plaintext"
    }
   },
   "outputs": [],
   "source": [
    "# Inspect the dataset structure and data types\n",
    "df.info()"
   ]
  },
  {
   "cell_type": "code",
   "execution_count": null,
   "id": "d29b322e",
   "metadata": {
    "vscode": {
     "languageId": "plaintext"
    }
   },
   "outputs": [],
   "source": [
    "# View summary statistics for numerical features\n",
    "df.describe()"
   ]
  },
  {
   "cell_type": "code",
   "execution_count": null,
   "id": "57b287f5",
   "metadata": {
    "vscode": {
     "languageId": "plaintext"
    }
   },
   "outputs": [],
   "source": [
    "# Check for missing values in each column\n",
    "df.isnull().sum()"
   ]
  },
  {
   "cell_type": "code",
   "execution_count": null,
   "id": "4e30f5a1",
   "metadata": {
    "vscode": {
     "languageId": "plaintext"
    }
   },
   "outputs": [],
   "source": [
    "# Examine the distribution of the target variable\n",
    "df['income'].value_counts()"
   ]
  },
  {
   "cell_type": "code",
   "execution_count": null,
   "id": "77f823b8",
   "metadata": {
    "vscode": {
     "languageId": "plaintext"
    }
   },
   "outputs": [],
   "source": [
    "# Visualize the distribution of income classes\n",
    "sns.countplot(x='income', data=df)\n",
    "plt.title('Income Distribution')\n",
    "plt.xlabel('Income')\n",
    "plt.ylabel('Count')\n",
    "plt.show()"
   ]
  },
  {
   "cell_type": "code",
   "execution_count": null,
   "id": "97e5207d",
   "metadata": {
    "vscode": {
     "languageId": "plaintext"
    }
   },
   "outputs": [],
   "source": [
    "# Explore the relationship between age and income classes\n",
    "sns.boxplot(x='income', y='age', data=df)\n",
    "plt.title('Boxplot of Age by Income Class')\n",
    "plt.xlabel('Income')\n",
    "plt.ylabel('Age')\n",
    "plt.show()"
   ]
  },
  {
   "cell_type": "code",
   "execution_count": null,
   "id": "8de7b6f6",
   "metadata": {
    "vscode": {
     "languageId": "plaintext"
    }
   },
   "outputs": [],
   "source": [
    "# Visualize the distribution of occupations by income class\n",
    "plt.figure(figsize=(12, 8))\n",
    "sns.countplot(y='occupation', hue='income', data=df)\n",
    "plt.title('Occupation Distribution by Income Class')\n",
    "plt.xlabel('Count')\n",
    "plt.ylabel('Occupation')\n",
    "plt.show()"
   ]
  },
  {
   "cell_type": "code",
   "execution_count": null,
   "id": "dbc2e6d8",
   "metadata": {
    "vscode": {
     "languageId": "plaintext"
    }
   },
   "outputs": [],
   "source": [
    "# Visualize the distribution of education levels by income class\n",
    "plt.figure(figsize=(12, 8))\n",
    "sns.countplot(y='education', hue='income', data=df)\n",
    "plt.title('Education Level Distribution by Income Class')\n",
    "plt.xlabel('Count')\n",
    "plt.ylabel('Education Level')\n",
    "plt.show()"
   ]
  },
  {
   "cell_type": "code",
   "execution_count": null,
   "id": "b1fbf7b8",
   "metadata": {
    "vscode": {
     "languageId": "plaintext"
    }
   },
   "outputs": [],
   "source": [
    "# Visualize the distribution of marital status by income class\n",
    "plt.figure(figsize=(12, 8))\n",
    "sns.countplot(y='marital-status', hue='income', data=df)\n",
    "plt.title('Marital Status Distribution by Income Class')\n",
    "plt.xlabel('Count')\n",
    "plt.ylabel('Marital Status')\n",
    "plt.show()"
   ]
  },
  {
   "cell_type": "code",
   "execution_count": null,
   "id": "386f9767",
   "metadata": {
    "vscode": {
     "languageId": "plaintext"
    }
   },
   "outputs": [],
   "source": [
    "# Visualize the distribution of relationship types by income class\n",
    "plt.figure(figsize=(12, 8))\n",
    "sns.countplot(y='relationship', hue='income', data=df)\n",
    "plt.title('Relationship Type Distribution by Income Class')\n",
    "plt.xlabel('Count')\n",
    "plt.ylabel('Relationship Type')\n",
    "plt.show()"
   ]
  },
  {
   "cell_type": "code",
   "execution_count": null,
   "id": "e1de6623",
   "metadata": {
    "vscode": {
     "languageId": "plaintext"
    }
   },
   "outputs": [],
   "source": [
    "# Visualize the distribution of race by income class\n",
    "plt.figure(figsize=(12, 8))\n",
    "sns.countplot(y='race', hue='income', data=df)\n",
    "plt.title('Race Distribution by Income Class')\n",
    "plt.xlabel('Count')\n",
    "plt.ylabel('Race')\n",
    "plt.show()"
   ]
  },
  {
   "cell_type": "code",
   "execution_count": null,
   "id": "fe44f114",
   "metadata": {
    "vscode": {
     "languageId": "plaintext"
    }
   },
   "outputs": [],
   "source": [
    "# Visualize the distribution of sex by income class\n",
    "plt.figure(figsize=(12, 8))\n",
    "sns.countplot(y='sex', hue='income', data=df)\n",
    "plt.title('Sex Distribution by Income Class')\n",
    "plt.xlabel('Count')\n",
    "plt.ylabel('Sex')\n",
    "plt.show()"
   ]
  },
  {
   "cell_type": "code",
   "execution_count": null,
   "id": "12ebce54",
   "metadata": {
    "vscode": {
     "languageId": "plaintext"
    }
   },
   "outputs": [],
   "source": [
    "# Visualize the distribution of native country by income class\n",
    "plt.figure(figsize=(12, 8))\n",
    "sns.countplot(y='native-country', hue='income', data=df)\n",
    "plt.title('Native Country Distribution by Income Class')\n",
    "plt.xlabel('Count')\n",
    "plt.ylabel('Native Country')\n",
    "plt.show()"
   ]
  }
 ],
 "metadata": {
  "language_info": {
   "name": "python"
  }
 },
 "nbformat": 4,
 "nbformat_minor": 5
}
